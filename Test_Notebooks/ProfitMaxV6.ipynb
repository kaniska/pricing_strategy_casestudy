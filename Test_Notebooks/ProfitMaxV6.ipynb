{
 "cells": [
  {
   "cell_type": "code",
   "execution_count": 1,
   "metadata": {},
   "outputs": [],
   "source": [
    "import pandas as pd\n",
    "import numpy as np\n",
    "from pandas import DataFrame\n",
    "import matplotlib.pyplot as plt\n",
    "import seaborn as sns\n",
    "from statsmodels.formula.api import ols\n",
    "%matplotlib inline"
   ]
  },
  {
   "cell_type": "code",
   "execution_count": 2,
   "metadata": {},
   "outputs": [
    {
     "data": {
      "text/html": [
       "<div>\n",
       "<style scoped>\n",
       "    .dataframe tbody tr th:only-of-type {\n",
       "        vertical-align: middle;\n",
       "    }\n",
       "\n",
       "    .dataframe tbody tr th {\n",
       "        vertical-align: top;\n",
       "    }\n",
       "\n",
       "    .dataframe thead th {\n",
       "        text-align: right;\n",
       "    }\n",
       "</style>\n",
       "<table border=\"1\" class=\"dataframe\">\n",
       "  <thead>\n",
       "    <tr style=\"text-align: right;\">\n",
       "      <th></th>\n",
       "      <th>item_id</th>\n",
       "      <th>unit_price</th>\n",
       "      <th>unit_cost</th>\n",
       "      <th>units_sold</th>\n",
       "      <th>incr_cvr</th>\n",
       "      <th>incr_sales</th>\n",
       "    </tr>\n",
       "  </thead>\n",
       "  <tbody>\n",
       "    <tr>\n",
       "      <th>count</th>\n",
       "      <td>250.000000</td>\n",
       "      <td>250.000000</td>\n",
       "      <td>250.000000</td>\n",
       "      <td>250.000000</td>\n",
       "      <td>250.000000</td>\n",
       "      <td>250.000000</td>\n",
       "    </tr>\n",
       "    <tr>\n",
       "      <th>mean</th>\n",
       "      <td>125.500000</td>\n",
       "      <td>60.620000</td>\n",
       "      <td>51.596000</td>\n",
       "      <td>1.500400</td>\n",
       "      <td>0.136608</td>\n",
       "      <td>0.050986</td>\n",
       "    </tr>\n",
       "    <tr>\n",
       "      <th>std</th>\n",
       "      <td>72.312977</td>\n",
       "      <td>28.318959</td>\n",
       "      <td>24.182223</td>\n",
       "      <td>0.839511</td>\n",
       "      <td>0.157928</td>\n",
       "      <td>0.029084</td>\n",
       "    </tr>\n",
       "    <tr>\n",
       "      <th>min</th>\n",
       "      <td>1.000000</td>\n",
       "      <td>10.000000</td>\n",
       "      <td>9.000000</td>\n",
       "      <td>0.100000</td>\n",
       "      <td>0.000000</td>\n",
       "      <td>0.000370</td>\n",
       "    </tr>\n",
       "    <tr>\n",
       "      <th>20%</th>\n",
       "      <td>50.800000</td>\n",
       "      <td>33.800000</td>\n",
       "      <td>28.000000</td>\n",
       "      <td>0.600000</td>\n",
       "      <td>0.000000</td>\n",
       "      <td>0.020262</td>\n",
       "    </tr>\n",
       "    <tr>\n",
       "      <th>40%</th>\n",
       "      <td>100.600000</td>\n",
       "      <td>49.000000</td>\n",
       "      <td>43.000000</td>\n",
       "      <td>1.200000</td>\n",
       "      <td>0.005000</td>\n",
       "      <td>0.043162</td>\n",
       "    </tr>\n",
       "    <tr>\n",
       "      <th>50%</th>\n",
       "      <td>125.500000</td>\n",
       "      <td>57.000000</td>\n",
       "      <td>50.500000</td>\n",
       "      <td>1.400000</td>\n",
       "      <td>0.069000</td>\n",
       "      <td>0.051620</td>\n",
       "    </tr>\n",
       "    <tr>\n",
       "      <th>60%</th>\n",
       "      <td>150.400000</td>\n",
       "      <td>69.000000</td>\n",
       "      <td>57.400000</td>\n",
       "      <td>1.800000</td>\n",
       "      <td>0.135000</td>\n",
       "      <td>0.061298</td>\n",
       "    </tr>\n",
       "    <tr>\n",
       "      <th>80%</th>\n",
       "      <td>200.200000</td>\n",
       "      <td>89.000000</td>\n",
       "      <td>75.000000</td>\n",
       "      <td>2.300000</td>\n",
       "      <td>0.288400</td>\n",
       "      <td>0.080604</td>\n",
       "    </tr>\n",
       "    <tr>\n",
       "      <th>max</th>\n",
       "      <td>250.000000</td>\n",
       "      <td>110.000000</td>\n",
       "      <td>105.000000</td>\n",
       "      <td>3.100000</td>\n",
       "      <td>0.615000</td>\n",
       "      <td>0.099430</td>\n",
       "    </tr>\n",
       "  </tbody>\n",
       "</table>\n",
       "</div>"
      ],
      "text/plain": [
       "          item_id  unit_price   unit_cost  units_sold    incr_cvr  incr_sales\n",
       "count  250.000000  250.000000  250.000000  250.000000  250.000000  250.000000\n",
       "mean   125.500000   60.620000   51.596000    1.500400    0.136608    0.050986\n",
       "std     72.312977   28.318959   24.182223    0.839511    0.157928    0.029084\n",
       "min      1.000000   10.000000    9.000000    0.100000    0.000000    0.000370\n",
       "20%     50.800000   33.800000   28.000000    0.600000    0.000000    0.020262\n",
       "40%    100.600000   49.000000   43.000000    1.200000    0.005000    0.043162\n",
       "50%    125.500000   57.000000   50.500000    1.400000    0.069000    0.051620\n",
       "60%    150.400000   69.000000   57.400000    1.800000    0.135000    0.061298\n",
       "80%    200.200000   89.000000   75.000000    2.300000    0.288400    0.080604\n",
       "max    250.000000  110.000000  105.000000    3.100000    0.615000    0.099430"
      ]
     },
     "execution_count": 2,
     "metadata": {},
     "output_type": "execute_result"
    }
   ],
   "source": [
    "sales_data = pd.read_csv(\"product_sales.csv\")\n",
    "perc =[.20, .40, .60, .80]\n",
    "include =['object', 'float', 'int']\n",
    "desc = sales_data.describe(percentiles = perc, include = include)\n",
    "desc"
   ]
  },
  {
   "cell_type": "code",
   "execution_count": 3,
   "metadata": {},
   "outputs": [
    {
     "data": {
      "image/png": "[encoded data removed]",
      "text/plain": [
       "<Figure size 1080x432 with 1 Axes>"
      ]
     },
     "metadata": {
      "needs_background": "light"
     },
     "output_type": "display_data"
    }
   ],
   "source": [
    "out = pd.cut(sales_data['unit_price'], bins=[0, 10, 20, 40,60, 80, 100, 120], include_lowest=True)\n",
    "out_norm = out.value_counts(sort=False, normalize=True).mul(100)\n",
    "ax = out_norm.plot.bar(rot=0, color=\"b\", figsize=(15,6))\n",
    "#ax.set_xticklabels([c[1:-1].replace(\",\",\" to\") for c in out.cat.categories])\n",
    "plt.ylabel(\"frequency\")\n",
    "plt.show()"
   ]
  },
  {
   "cell_type": "code",
   "execution_count": 4,
   "metadata": {},
   "outputs": [
    {
     "data": {
      "text/plain": [
       "<AxesSubplot:xlabel='unit_price'>"
      ]
     },
     "execution_count": 4,
     "metadata": {},
     "output_type": "execute_result"
    },
    {
     "data": {
      "image/png": "[encoded data removed]",
      "text/plain": [
       "<Figure size 432x288 with 1 Axes>"
      ]
     },
     "metadata": {},
     "output_type": "display_data"
    }
   ],
   "source": [
    "#sns.displot(sales_data, x=\"unit_price\", kind=\"kde\", bw_adjust=2)\n",
    "\n",
    "sns.set_theme(style=\"whitegrid\")\n",
    "#ax = sns.violinplot(x=sales_data[\"unit_price\"])\n",
    "sns.boxplot(x=sales_data[\"unit_price\"])"
   ]
  },
  {
   "cell_type": "code",
   "execution_count": null,
   "metadata": {},
   "outputs": [],
   "source": []
  },
  {
   "cell_type": "code",
   "execution_count": 5,
   "metadata": {},
   "outputs": [
    {
     "data": {
      "text/html": [
       "<div>\n",
       "<style scoped>\n",
       "    .dataframe tbody tr th:only-of-type {\n",
       "        vertical-align: middle;\n",
       "    }\n",
       "\n",
       "    .dataframe tbody tr th {\n",
       "        vertical-align: top;\n",
       "    }\n",
       "\n",
       "    .dataframe thead th {\n",
       "        text-align: right;\n",
       "    }\n",
       "</style>\n",
       "<table border=\"1\" class=\"dataframe\">\n",
       "  <thead>\n",
       "    <tr style=\"text-align: right;\">\n",
       "      <th></th>\n",
       "      <th>unit_price_min</th>\n",
       "      <th>unit_price_max</th>\n",
       "      <th>unit_price_mean</th>\n",
       "      <th>unit_price_count</th>\n",
       "    </tr>\n",
       "    <tr>\n",
       "      <th>price_frqn_cat</th>\n",
       "      <th></th>\n",
       "      <th></th>\n",
       "      <th></th>\n",
       "      <th></th>\n",
       "    </tr>\n",
       "  </thead>\n",
       "  <tbody>\n",
       "    <tr>\n",
       "      <th>P1</th>\n",
       "      <td>10.0</td>\n",
       "      <td>10.0</td>\n",
       "      <td>10.000000</td>\n",
       "      <td>1</td>\n",
       "    </tr>\n",
       "    <tr>\n",
       "      <th>P2</th>\n",
       "      <td>11.0</td>\n",
       "      <td>20.0</td>\n",
       "      <td>16.500000</td>\n",
       "      <td>20</td>\n",
       "    </tr>\n",
       "    <tr>\n",
       "      <th>P3</th>\n",
       "      <td>21.0</td>\n",
       "      <td>40.0</td>\n",
       "      <td>31.040000</td>\n",
       "      <td>50</td>\n",
       "    </tr>\n",
       "    <tr>\n",
       "      <th>P4</th>\n",
       "      <td>41.0</td>\n",
       "      <td>60.0</td>\n",
       "      <td>50.098361</td>\n",
       "      <td>61</td>\n",
       "    </tr>\n",
       "    <tr>\n",
       "      <th>P5</th>\n",
       "      <td>62.0</td>\n",
       "      <td>80.0</td>\n",
       "      <td>70.613636</td>\n",
       "      <td>44</td>\n",
       "    </tr>\n",
       "    <tr>\n",
       "      <th>P6</th>\n",
       "      <td>81.0</td>\n",
       "      <td>100.0</td>\n",
       "      <td>90.361702</td>\n",
       "      <td>47</td>\n",
       "    </tr>\n",
       "    <tr>\n",
       "      <th>P7</th>\n",
       "      <td>101.0</td>\n",
       "      <td>110.0</td>\n",
       "      <td>105.666667</td>\n",
       "      <td>27</td>\n",
       "    </tr>\n",
       "    <tr>\n",
       "      <th>P8</th>\n",
       "      <td>NaN</td>\n",
       "      <td>NaN</td>\n",
       "      <td>NaN</td>\n",
       "      <td>0</td>\n",
       "    </tr>\n",
       "  </tbody>\n",
       "</table>\n",
       "</div>"
      ],
      "text/plain": [
       "                unit_price_min  unit_price_max  unit_price_mean  \\\n",
       "price_frqn_cat                                                    \n",
       "P1                        10.0            10.0        10.000000   \n",
       "P2                        11.0            20.0        16.500000   \n",
       "P3                        21.0            40.0        31.040000   \n",
       "P4                        41.0            60.0        50.098361   \n",
       "P5                        62.0            80.0        70.613636   \n",
       "P6                        81.0           100.0        90.361702   \n",
       "P7                       101.0           110.0       105.666667   \n",
       "P8                         NaN             NaN              NaN   \n",
       "\n",
       "                unit_price_count  \n",
       "price_frqn_cat                    \n",
       "P1                             1  \n",
       "P2                            20  \n",
       "P3                            50  \n",
       "P4                            61  \n",
       "P5                            44  \n",
       "P6                            47  \n",
       "P7                            27  \n",
       "P8                             0  "
      ]
     },
     "execution_count": 5,
     "metadata": {},
     "output_type": "execute_result"
    }
   ],
   "source": [
    "sales_data['price_frqn_cat'] = pd.cut(sales_data.unit_price, [-np.inf, 10, 20, 40, 60, 80, 100, 120, np.inf],labels=['P1','P2','P3','P4','P5','P6','P7','P8'])\n",
    "grouped = sales_data.groupby(\n",
    "    ['price_frqn_cat']\n",
    ").agg({\n",
    "    'unit_price': [\"min\",\"max\",\"mean\",\"count\"]\n",
    "}\n",
    ")\n",
    "grouped.columns = [\"_\".join(x) for x in grouped.columns.ravel()]\n",
    "grouped.head(10)"
   ]
  },
  {
   "cell_type": "code",
   "execution_count": 6,
   "metadata": {},
   "outputs": [
    {
     "data": {
      "text/plain": [
       "<AxesSubplot:xlabel='price_frqn_cat', ylabel='units_sold'>"
      ]
     },
     "execution_count": 6,
     "metadata": {},
     "output_type": "execute_result"
    },
    {
     "data": {
      "image/png": "[encoded data removed]",
      "text/plain": [
       "<Figure size 432x288 with 1 Axes>"
      ]
     },
     "metadata": {},
     "output_type": "display_data"
    }
   ],
   "source": [
    "sns.boxplot(x=\"price_frqn_cat\", y=\"units_sold\", data=sales_data)"
   ]
  },
  {
   "cell_type": "code",
   "execution_count": 7,
   "metadata": {},
   "outputs": [
    {
     "data": {
      "text/plain": [
       "<AxesSubplot:xlabel='price_frqn_cat', ylabel='incr_cvr'>"
      ]
     },
     "execution_count": 7,
     "metadata": {},
     "output_type": "execute_result"
    },
    {
     "data": {
      "image/png": "[encoded data removed]",
      "text/plain": [
       "<Figure size 432x288 with 1 Axes>"
      ]
     },
     "metadata": {},
     "output_type": "display_data"
    }
   ],
   "source": [
    "sns.boxplot(x=\"price_frqn_cat\", y=\"incr_cvr\", data=sales_data)"
   ]
  },
  {
   "cell_type": "code",
   "execution_count": 8,
   "metadata": {},
   "outputs": [
    {
     "data": {
      "text/plain": [
       "<AxesSubplot:xlabel='price_frqn_cat', ylabel='incr_sales'>"
      ]
     },
     "execution_count": 8,
     "metadata": {},
     "output_type": "execute_result"
    },
    {
     "data": {
      "image/png": "[encoded data removed]",
      "text/plain": [
       "<Figure size 432x288 with 1 Axes>"
      ]
     },
     "metadata": {},
     "output_type": "display_data"
    }
   ],
   "source": [
    "sns.boxplot(x=\"price_frqn_cat\", y=\"incr_sales\", data=sales_data)"
   ]
  },
  {
   "cell_type": "code",
   "execution_count": 9,
   "metadata": {},
   "outputs": [
    {
     "name": "stderr",
     "output_type": "stream",
     "text": [
      "/opt/conda/lib/python3.7/site-packages/seaborn/distributions.py:305: UserWarning: Dataset has 0 variance; skipping density estimate.\n",
      "  warnings.warn(msg, UserWarning)\n"
     ]
    },
    {
     "data": {
      "text/plain": [
       "<seaborn.axisgrid.FacetGrid at 0x7f18fc1d5fd0>"
      ]
     },
     "execution_count": 9,
     "metadata": {},
     "output_type": "execute_result"
    },
    {
     "data": {
      "image/png": "[encoded data removed]",
      "text/plain": [
       "<Figure size 453.675x360 with 1 Axes>"
      ]
     },
     "metadata": {},
     "output_type": "display_data"
    }
   ],
   "source": [
    "sns.displot(sales_data, x=\"units_sold\", hue=\"price_frqn_cat\", kind=\"kde\")"
   ]
  },
  {
   "cell_type": "code",
   "execution_count": 10,
   "metadata": {},
   "outputs": [
    {
     "data": {
      "image/png": "[encoded data removed]",
      "text/plain": [
       "<Figure size 720x432 with 1 Axes>"
      ]
     },
     "metadata": {},
     "output_type": "display_data"
    }
   ],
   "source": [
    "sales_data['profit']=sales_data['units_sold']*(sales_data['unit_price']-sales_data['unit_cost'])\n",
    "out = pd.cut(sales_data['profit'], bins=[0, 5, 10, 20, 40,60, 80, 100], include_lowest=True)\n",
    "out_norm = out.value_counts(sort=False, normalize=True).mul(100)\n",
    "ax = out_norm.plot.bar(rot=0, color=\"b\", figsize=(10,6))\n",
    "#ax.set_xticklabels([c[1:-1].replace(\",\",\" to\") for c in out.cat.categories])\n",
    "plt.ylabel(\"frequency\")\n",
    "plt.show()"
   ]
  },
  {
   "cell_type": "code",
   "execution_count": 11,
   "metadata": {},
   "outputs": [
    {
     "data": {
      "text/plain": [
       "<AxesSubplot:xlabel='incr_cvr'>"
      ]
     },
     "execution_count": 11,
     "metadata": {},
     "output_type": "execute_result"
    },
    {
     "data": {
      "image/png": "[encoded data removed]",
      "text/plain": [
       "<Figure size 432x288 with 1 Axes>"
      ]
     },
     "metadata": {},
     "output_type": "display_data"
    }
   ],
   "source": [
    "#sns.displot(sales_data, x=\"incr_cvr\", kind=\"kde\", bw_adjust=4)\n",
    "#sns.violinplot(x=sales_data[\"incr_cvr\"])\n",
    "incr_cvr_val = sales_data[\"incr_cvr\"] * 100\n",
    "sns.boxplot(x=incr_cvr_val)"
   ]
  },
  {
   "cell_type": "code",
   "execution_count": 12,
   "metadata": {},
   "outputs": [
    {
     "data": {
      "image/png": "[encoded data removed]",
      "text/plain": [
       "<Figure size 720x432 with 1 Axes>"
      ]
     },
     "metadata": {},
     "output_type": "display_data"
    }
   ],
   "source": [
    "out = pd.cut(incr_cvr_val, bins=[0, 5, 10, 20, 40,60, 80, 100], include_lowest=True)\n",
    "out_norm = out.value_counts(sort=False, normalize=True).mul(100)\n",
    "ax = out_norm.plot.bar(rot=0, color=\"b\", figsize=(10,6))\n",
    "plt.ylabel(\"frequency\")\n",
    "plt.xlabel(\"cvr_incr_group\")\n",
    "plt.show()"
   ]
  },
  {
   "cell_type": "code",
   "execution_count": 42,
   "metadata": {},
   "outputs": [
    {
     "data": {
      "text/html": [
       "<div>\n",
       "<style scoped>\n",
       "    .dataframe tbody tr th:only-of-type {\n",
       "        vertical-align: middle;\n",
       "    }\n",
       "\n",
       "    .dataframe tbody tr th {\n",
       "        vertical-align: top;\n",
       "    }\n",
       "\n",
       "    .dataframe thead th {\n",
       "        text-align: right;\n",
       "    }\n",
       "</style>\n",
       "<table border=\"1\" class=\"dataframe\">\n",
       "  <thead>\n",
       "    <tr style=\"text-align: right;\">\n",
       "      <th></th>\n",
       "      <th>incr_cvr_percmin</th>\n",
       "      <th>incr_cvr_percmax</th>\n",
       "      <th>incr_cvr_percmean</th>\n",
       "      <th>incr_cvr_perccount</th>\n",
       "    </tr>\n",
       "    <tr>\n",
       "      <th>incr_cvr_cat</th>\n",
       "      <th></th>\n",
       "      <th></th>\n",
       "      <th></th>\n",
       "      <th></th>\n",
       "    </tr>\n",
       "  </thead>\n",
       "  <tbody>\n",
       "    <tr>\n",
       "      <th>-inf_0</th>\n",
       "      <td>0.0</td>\n",
       "      <td>0.0</td>\n",
       "      <td>0.000000</td>\n",
       "      <td>99</td>\n",
       "    </tr>\n",
       "    <tr>\n",
       "      <th>0-5</th>\n",
       "      <td>0.2</td>\n",
       "      <td>4.9</td>\n",
       "      <td>2.629412</td>\n",
       "      <td>17</td>\n",
       "    </tr>\n",
       "    <tr>\n",
       "      <th>5-10</th>\n",
       "      <td>5.3</td>\n",
       "      <td>9.6</td>\n",
       "      <td>7.188889</td>\n",
       "      <td>18</td>\n",
       "    </tr>\n",
       "    <tr>\n",
       "      <th>10-20</th>\n",
       "      <td>10.5</td>\n",
       "      <td>20.0</td>\n",
       "      <td>15.256410</td>\n",
       "      <td>39</td>\n",
       "    </tr>\n",
       "    <tr>\n",
       "      <th>20-40</th>\n",
       "      <td>20.6</td>\n",
       "      <td>40.0</td>\n",
       "      <td>29.528070</td>\n",
       "      <td>57</td>\n",
       "    </tr>\n",
       "    <tr>\n",
       "      <th>40-60</th>\n",
       "      <td>40.1</td>\n",
       "      <td>57.5</td>\n",
       "      <td>47.447368</td>\n",
       "      <td>19</td>\n",
       "    </tr>\n",
       "    <tr>\n",
       "      <th>60-80</th>\n",
       "      <td>61.5</td>\n",
       "      <td>61.5</td>\n",
       "      <td>61.500000</td>\n",
       "      <td>1</td>\n",
       "    </tr>\n",
       "  </tbody>\n",
       "</table>\n",
       "</div>"
      ],
      "text/plain": [
       "              incr_cvr_percmin  incr_cvr_percmax  incr_cvr_percmean  \\\n",
       "incr_cvr_cat                                                          \n",
       "-inf_0                     0.0               0.0           0.000000   \n",
       "0-5                        0.2               4.9           2.629412   \n",
       "5-10                       5.3               9.6           7.188889   \n",
       "10-20                     10.5              20.0          15.256410   \n",
       "20-40                     20.6              40.0          29.528070   \n",
       "40-60                     40.1              57.5          47.447368   \n",
       "60-80                     61.5              61.5          61.500000   \n",
       "\n",
       "              incr_cvr_perccount  \n",
       "incr_cvr_cat                      \n",
       "-inf_0                        99  \n",
       "0-5                           17  \n",
       "5-10                          18  \n",
       "10-20                         39  \n",
       "20-40                         57  \n",
       "40-60                         19  \n",
       "60-80                          1  "
      ]
     },
     "execution_count": 42,
     "metadata": {},
     "output_type": "execute_result"
    }
   ],
   "source": [
    "sales_data['incr_cvr_perc'] = sales_data[\"incr_cvr\"] * 100\n",
    "sales_data['incr_cvr_cat'] = pd.cut(sales_data['incr_cvr_perc'], [-np.inf, 0, 5, 10, 20, 40, 60, 80],\n",
    "                                    labels=['-inf_0','0-5','5-10','10-20','20-40','40-60','60-80'])\n",
    "incr_cvr_groups = sales_data.groupby(\n",
    "    ['incr_cvr_cat']\n",
    ").agg({\n",
    "    'incr_cvr_perc': [\"min\",\"max\",\"mean\",\"count\"]\n",
    "}\n",
    ")\n",
    "incr_cvr_groups.columns = [\"\".join(x) for x in incr_cvr_groups.columns.ravel()]\n",
    "incr_cvr_groups.head(10)"
   ]
  },
  {
   "cell_type": "code",
   "execution_count": 14,
   "metadata": {},
   "outputs": [
    {
     "data": {
      "image/png": "[encoded data removed]",
      "text/plain": [
       "<Figure size 720x432 with 1 Axes>"
      ]
     },
     "metadata": {},
     "output_type": "display_data"
    }
   ],
   "source": [
    "out = pd.cut(sales_data['incr_sales']*100, bins=[0, 5, 10, 20, 40,60, 80, 100], include_lowest=True)\n",
    "out_norm = out.value_counts(sort=False, normalize=True).mul(100)\n",
    "ax = out_norm.plot.bar(rot=0, color=\"b\", figsize=(10,6))\n",
    "#ax.set_xticklabels([c[1:-1].replace(\",\",\" to\") for c in out.cat.categories])\n",
    "plt.ylabel(\"frequency\")\n",
    "plt.xlabel(\"sales_incr_group\")\n",
    "plt.show()"
   ]
  },
  {
   "cell_type": "code",
   "execution_count": 15,
   "metadata": {},
   "outputs": [
    {
     "data": {
      "text/plain": [
       "<AxesSubplot:xlabel='incr_sales'>"
      ]
     },
     "execution_count": 15,
     "metadata": {},
     "output_type": "execute_result"
    },
    {
     "data": {
      "image/png": "[encoded data removed]",
      "text/plain": [
       "<Figure size 432x288 with 1 Axes>"
      ]
     },
     "metadata": {},
     "output_type": "display_data"
    }
   ],
   "source": [
    "incr_sales_val = sales_data[\"incr_sales\"] * 100\n",
    "sns.boxplot(x=incr_sales_val)"
   ]
  },
  {
   "cell_type": "code",
   "execution_count": 48,
   "metadata": {},
   "outputs": [
    {
     "data": {
      "text/html": [
       "<div>\n",
       "<style scoped>\n",
       "    .dataframe tbody tr th:only-of-type {\n",
       "        vertical-align: middle;\n",
       "    }\n",
       "\n",
       "    .dataframe tbody tr th {\n",
       "        vertical-align: top;\n",
       "    }\n",
       "\n",
       "    .dataframe thead th {\n",
       "        text-align: right;\n",
       "    }\n",
       "</style>\n",
       "<table border=\"1\" class=\"dataframe\">\n",
       "  <thead>\n",
       "    <tr style=\"text-align: right;\">\n",
       "      <th></th>\n",
       "      <th>incr_sales_perc_min</th>\n",
       "      <th>incr_sales_perc_max</th>\n",
       "      <th>incr_sales_perc_mean</th>\n",
       "      <th>incr_sales_perc_count</th>\n",
       "    </tr>\n",
       "    <tr>\n",
       "      <th>incr_sales_cat</th>\n",
       "      <th></th>\n",
       "      <th></th>\n",
       "      <th></th>\n",
       "      <th></th>\n",
       "    </tr>\n",
       "  </thead>\n",
       "  <tbody>\n",
       "    <tr>\n",
       "      <th>0_1</th>\n",
       "      <td>0.037</td>\n",
       "      <td>0.977</td>\n",
       "      <td>0.494192</td>\n",
       "      <td>26</td>\n",
       "    </tr>\n",
       "    <tr>\n",
       "      <th>1_2</th>\n",
       "      <td>1.033</td>\n",
       "      <td>1.991</td>\n",
       "      <td>1.499917</td>\n",
       "      <td>24</td>\n",
       "    </tr>\n",
       "    <tr>\n",
       "      <th>2_4</th>\n",
       "      <td>2.035</td>\n",
       "      <td>3.916</td>\n",
       "      <td>2.961100</td>\n",
       "      <td>40</td>\n",
       "    </tr>\n",
       "    <tr>\n",
       "      <th>4_6</th>\n",
       "      <td>4.033</td>\n",
       "      <td>5.936</td>\n",
       "      <td>4.969017</td>\n",
       "      <td>58</td>\n",
       "    </tr>\n",
       "    <tr>\n",
       "      <th>6_8</th>\n",
       "      <td>6.016</td>\n",
       "      <td>7.996</td>\n",
       "      <td>6.980837</td>\n",
       "      <td>49</td>\n",
       "    </tr>\n",
       "    <tr>\n",
       "      <th>8_10</th>\n",
       "      <td>8.009</td>\n",
       "      <td>9.943</td>\n",
       "      <td>9.001660</td>\n",
       "      <td>53</td>\n",
       "    </tr>\n",
       "  </tbody>\n",
       "</table>\n",
       "</div>"
      ],
      "text/plain": [
       "                incr_sales_perc_min  incr_sales_perc_max  \\\n",
       "incr_sales_cat                                             \n",
       "0_1                           0.037                0.977   \n",
       "1_2                           1.033                1.991   \n",
       "2_4                           2.035                3.916   \n",
       "4_6                           4.033                5.936   \n",
       "6_8                           6.016                7.996   \n",
       "8_10                          8.009                9.943   \n",
       "\n",
       "                incr_sales_perc_mean  incr_sales_perc_count  \n",
       "incr_sales_cat                                               \n",
       "0_1                         0.494192                     26  \n",
       "1_2                         1.499917                     24  \n",
       "2_4                         2.961100                     40  \n",
       "4_6                         4.969017                     58  \n",
       "6_8                         6.980837                     49  \n",
       "8_10                        9.001660                     53  "
      ]
     },
     "execution_count": 48,
     "metadata": {},
     "output_type": "execute_result"
    }
   ],
   "source": [
    "sales_data['incr_sales_perc'] = sales_data['incr_sales']*100\n",
    "sales_data['incr_sales_cat'] = pd.cut(sales_data['incr_sales_perc'], [0, 1, 2, 4, 6, 8, 10],labels=['0_1','1_2','2_4','4_6', '6_8', '8_10'])\n",
    "incr_sales_grouped = sales_data.groupby(\n",
    "    ['incr_sales_cat']\n",
    ").agg({\n",
    "    'incr_sales_perc': [\"min\",\"max\",\"mean\",\"count\"]\n",
    "}\n",
    ")\n",
    "incr_sales_grouped.columns = [\"_\".join(x) for x in incr_sales_grouped.columns.ravel()]\n",
    "incr_sales_grouped.head(10)"
   ]
  },
  {
   "cell_type": "code",
   "execution_count": 33,
   "metadata": {},
   "outputs": [
    {
     "data": {
      "text/html": [
       "<style  type=\"text/css\" >\n",
       "    #T_ab05e7e8_5050_11eb_913c_42010a8a0002 th {\n",
       "          font-size: 7pt;\n",
       "    }    #T_ab05e7e8_5050_11eb_913c_42010a8a0002 td {\n",
       "          padding: 0em 0em;\n",
       "    }    #T_ab05e7e8_5050_11eb_913c_42010a8a0002 th:hover {\n",
       "          font-size: 12pt;\n",
       "    }    #T_ab05e7e8_5050_11eb_913c_42010a8a0002 tr:hover td:hover {\n",
       "          max-width: 200px;\n",
       "          font-size: 12pt;\n",
       "    }#T_ab05e7e8_5050_11eb_913c_42010a8a0002row0_col0,#T_ab05e7e8_5050_11eb_913c_42010a8a0002row1_col1,#T_ab05e7e8_5050_11eb_913c_42010a8a0002row2_col2,#T_ab05e7e8_5050_11eb_913c_42010a8a0002row3_col3,#T_ab05e7e8_5050_11eb_913c_42010a8a0002row4_col4{\n",
       "            background-color:  #4479bb;\n",
       "            color:  #000000;\n",
       "            max-width:  80px;\n",
       "            font-size:  10pt;\n",
       "        }#T_ab05e7e8_5050_11eb_913c_42010a8a0002row0_col1,#T_ab05e7e8_5050_11eb_913c_42010a8a0002row1_col0,#T_ab05e7e8_5050_11eb_913c_42010a8a0002row2_col0,#T_ab05e7e8_5050_11eb_913c_42010a8a0002row2_col4,#T_ab05e7e8_5050_11eb_913c_42010a8a0002row3_col4,#T_ab05e7e8_5050_11eb_913c_42010a8a0002row4_col3{\n",
       "            background-color:  #d73c5b;\n",
       "            color:  #f1f1f1;\n",
       "            max-width:  80px;\n",
       "            font-size:  10pt;\n",
       "        }#T_ab05e7e8_5050_11eb_913c_42010a8a0002row0_col2{\n",
       "            background-color:  #da4e6a;\n",
       "            color:  #000000;\n",
       "            max-width:  80px;\n",
       "            font-size:  10pt;\n",
       "        }#T_ab05e7e8_5050_11eb_913c_42010a8a0002row0_col3{\n",
       "            background-color:  #d94865;\n",
       "            color:  #000000;\n",
       "            max-width:  80px;\n",
       "            font-size:  10pt;\n",
       "        }#T_ab05e7e8_5050_11eb_913c_42010a8a0002row0_col4{\n",
       "            background-color:  #e8ebf0;\n",
       "            color:  #000000;\n",
       "            max-width:  80px;\n",
       "            font-size:  10pt;\n",
       "        }#T_ab05e7e8_5050_11eb_913c_42010a8a0002row1_col2{\n",
       "            background-color:  #dd637c;\n",
       "            color:  #000000;\n",
       "            max-width:  80px;\n",
       "            font-size:  10pt;\n",
       "        }#T_ab05e7e8_5050_11eb_913c_42010a8a0002row1_col3{\n",
       "            background-color:  #d94a67;\n",
       "            color:  #000000;\n",
       "            max-width:  80px;\n",
       "            font-size:  10pt;\n",
       "        }#T_ab05e7e8_5050_11eb_913c_42010a8a0002row1_col4{\n",
       "            background-color:  #f2eded;\n",
       "            color:  #000000;\n",
       "            max-width:  80px;\n",
       "            font-size:  10pt;\n",
       "        }#T_ab05e7e8_5050_11eb_913c_42010a8a0002row2_col1{\n",
       "            background-color:  #db526e;\n",
       "            color:  #000000;\n",
       "            max-width:  80px;\n",
       "            font-size:  10pt;\n",
       "        }#T_ab05e7e8_5050_11eb_913c_42010a8a0002row2_col3{\n",
       "            background-color:  #da4b68;\n",
       "            color:  #000000;\n",
       "            max-width:  80px;\n",
       "            font-size:  10pt;\n",
       "        }#T_ab05e7e8_5050_11eb_913c_42010a8a0002row3_col0{\n",
       "            background-color:  #d8405e;\n",
       "            color:  #f1f1f1;\n",
       "            max-width:  80px;\n",
       "            font-size:  10pt;\n",
       "        }#T_ab05e7e8_5050_11eb_913c_42010a8a0002row3_col1{\n",
       "            background-color:  #d84361;\n",
       "            color:  #f1f1f1;\n",
       "            max-width:  80px;\n",
       "            font-size:  10pt;\n",
       "        }#T_ab05e7e8_5050_11eb_913c_42010a8a0002row3_col2{\n",
       "            background-color:  #db5771;\n",
       "            color:  #000000;\n",
       "            max-width:  80px;\n",
       "            font-size:  10pt;\n",
       "        }#T_ab05e7e8_5050_11eb_913c_42010a8a0002row4_col0{\n",
       "            background-color:  #edeef1;\n",
       "            color:  #000000;\n",
       "            max-width:  80px;\n",
       "            font-size:  10pt;\n",
       "        }#T_ab05e7e8_5050_11eb_913c_42010a8a0002row4_col1{\n",
       "            background-color:  #f1e8ea;\n",
       "            color:  #000000;\n",
       "            max-width:  80px;\n",
       "            font-size:  10pt;\n",
       "        }#T_ab05e7e8_5050_11eb_913c_42010a8a0002row4_col2{\n",
       "            background-color:  #d94764;\n",
       "            color:  #f1f1f1;\n",
       "            max-width:  80px;\n",
       "            font-size:  10pt;\n",
       "        }</style><table id=\"T_ab05e7e8_5050_11eb_913c_42010a8a0002\" ><caption>Hover to magify</caption><thead>    <tr>        <th class=\"blank level0\" ></th>        <th class=\"col_heading level0 col0\" >unit_price</th>        <th class=\"col_heading level0 col1\" >units_sold</th>        <th class=\"col_heading level0 col2\" >incr_cvr</th>        <th class=\"col_heading level0 col3\" >incr_sales</th>        <th class=\"col_heading level0 col4\" >profit</th>    </tr></thead><tbody>\n",
       "                <tr>\n",
       "                        <th id=\"T_ab05e7e8_5050_11eb_913c_42010a8a0002level0_row0\" class=\"row_heading level0 row0\" >unit_price</th>\n",
       "                        <td id=\"T_ab05e7e8_5050_11eb_913c_42010a8a0002row0_col0\" class=\"data row0 col0\" >1.00</td>\n",
       "                        <td id=\"T_ab05e7e8_5050_11eb_913c_42010a8a0002row0_col1\" class=\"data row0 col1\" >-0.06</td>\n",
       "                        <td id=\"T_ab05e7e8_5050_11eb_913c_42010a8a0002row0_col2\" class=\"data row0 col2\" >-0.01</td>\n",
       "                        <td id=\"T_ab05e7e8_5050_11eb_913c_42010a8a0002row0_col3\" class=\"data row0 col3\" >-0.03</td>\n",
       "                        <td id=\"T_ab05e7e8_5050_11eb_913c_42010a8a0002row0_col4\" class=\"data row0 col4\" >0.50</td>\n",
       "            </tr>\n",
       "            <tr>\n",
       "                        <th id=\"T_ab05e7e8_5050_11eb_913c_42010a8a0002level0_row1\" class=\"row_heading level0 row1\" >units_sold</th>\n",
       "                        <td id=\"T_ab05e7e8_5050_11eb_913c_42010a8a0002row1_col0\" class=\"data row1 col0\" >-0.06</td>\n",
       "                        <td id=\"T_ab05e7e8_5050_11eb_913c_42010a8a0002row1_col1\" class=\"data row1 col1\" >1.00</td>\n",
       "                        <td id=\"T_ab05e7e8_5050_11eb_913c_42010a8a0002row1_col2\" class=\"data row1 col2\" >0.06</td>\n",
       "                        <td id=\"T_ab05e7e8_5050_11eb_913c_42010a8a0002row1_col3\" class=\"data row1 col3\" >-0.02</td>\n",
       "                        <td id=\"T_ab05e7e8_5050_11eb_913c_42010a8a0002row1_col4\" class=\"data row1 col4\" >0.45</td>\n",
       "            </tr>\n",
       "            <tr>\n",
       "                        <th id=\"T_ab05e7e8_5050_11eb_913c_42010a8a0002level0_row2\" class=\"row_heading level0 row2\" >incr_cvr</th>\n",
       "                        <td id=\"T_ab05e7e8_5050_11eb_913c_42010a8a0002row2_col0\" class=\"data row2 col0\" >-0.01</td>\n",
       "                        <td id=\"T_ab05e7e8_5050_11eb_913c_42010a8a0002row2_col1\" class=\"data row2 col1\" >0.06</td>\n",
       "                        <td id=\"T_ab05e7e8_5050_11eb_913c_42010a8a0002row2_col2\" class=\"data row2 col2\" >1.00</td>\n",
       "                        <td id=\"T_ab05e7e8_5050_11eb_913c_42010a8a0002row2_col3\" class=\"data row2 col3\" >0.04</td>\n",
       "                        <td id=\"T_ab05e7e8_5050_11eb_913c_42010a8a0002row2_col4\" class=\"data row2 col4\" >-0.01</td>\n",
       "            </tr>\n",
       "            <tr>\n",
       "                        <th id=\"T_ab05e7e8_5050_11eb_913c_42010a8a0002level0_row3\" class=\"row_heading level0 row3\" >incr_sales</th>\n",
       "                        <td id=\"T_ab05e7e8_5050_11eb_913c_42010a8a0002row3_col0\" class=\"data row3 col0\" >-0.03</td>\n",
       "                        <td id=\"T_ab05e7e8_5050_11eb_913c_42010a8a0002row3_col1\" class=\"data row3 col1\" >-0.02</td>\n",
       "                        <td id=\"T_ab05e7e8_5050_11eb_913c_42010a8a0002row3_col2\" class=\"data row3 col2\" >0.04</td>\n",
       "                        <td id=\"T_ab05e7e8_5050_11eb_913c_42010a8a0002row3_col3\" class=\"data row3 col3\" >1.00</td>\n",
       "                        <td id=\"T_ab05e7e8_5050_11eb_913c_42010a8a0002row3_col4\" class=\"data row3 col4\" >-0.04</td>\n",
       "            </tr>\n",
       "            <tr>\n",
       "                        <th id=\"T_ab05e7e8_5050_11eb_913c_42010a8a0002level0_row4\" class=\"row_heading level0 row4\" >profit</th>\n",
       "                        <td id=\"T_ab05e7e8_5050_11eb_913c_42010a8a0002row4_col0\" class=\"data row4 col0\" >0.50</td>\n",
       "                        <td id=\"T_ab05e7e8_5050_11eb_913c_42010a8a0002row4_col1\" class=\"data row4 col1\" >0.45</td>\n",
       "                        <td id=\"T_ab05e7e8_5050_11eb_913c_42010a8a0002row4_col2\" class=\"data row4 col2\" >-0.01</td>\n",
       "                        <td id=\"T_ab05e7e8_5050_11eb_913c_42010a8a0002row4_col3\" class=\"data row4 col3\" >-0.04</td>\n",
       "                        <td id=\"T_ab05e7e8_5050_11eb_913c_42010a8a0002row4_col4\" class=\"data row4 col4\" >1.00</td>\n",
       "            </tr>\n",
       "    </tbody></table>"
      ],
      "text/plain": [
       "<pandas.io.formats.style.Styler at 0x7f18fc167d50>"
      ]
     },
     "execution_count": 33,
     "metadata": {},
     "output_type": "execute_result"
    }
   ],
   "source": [
    "#sns.pairplot(sales_data)\n",
    "plotdata = sales_data[['unit_price','units_sold','incr_cvr','incr_sales','profit']]\n",
    "cmap =sns.diverging_palette(5, 250, as_cmap=True)\n",
    "\n",
    "def magnify():\n",
    "    return [dict(selector=\"th\",\n",
    "                 props=[(\"font-size\", \"7pt\")]),\n",
    "            dict(selector=\"td\",\n",
    "                 props=[('padding', \"0em 0em\")]),\n",
    "            dict(selector=\"th:hover\",\n",
    "                 props=[(\"font-size\", \"12pt\")]),\n",
    "            dict(selector=\"tr:hover td:hover\",\n",
    "                 props=[('max-width', '200px'),\n",
    "                        ('font-size', '12pt')])\n",
    "]\n",
    "corr = plotdata.corr()\n",
    "corr.style.background_gradient(cmap, axis=1)\\\n",
    "    .set_properties(**{'max-width': '80px', 'font-size': '10pt'})\\\n",
    "    .set_caption(\"Hover to magify\")\\\n",
    "    .set_precision(2)\\\n",
    "    .set_table_styles(magnify())"
   ]
  },
  {
   "cell_type": "code",
   "execution_count": 51,
   "metadata": {},
   "outputs": [
    {
     "data": {
      "text/html": [
       "<div>\n",
       "<style scoped>\n",
       "    .dataframe tbody tr th:only-of-type {\n",
       "        vertical-align: middle;\n",
       "    }\n",
       "\n",
       "    .dataframe tbody tr th {\n",
       "        vertical-align: top;\n",
       "    }\n",
       "\n",
       "    .dataframe thead th {\n",
       "        text-align: right;\n",
       "    }\n",
       "</style>\n",
       "<table border=\"1\" class=\"dataframe\">\n",
       "  <thead>\n",
       "    <tr style=\"text-align: right;\">\n",
       "      <th></th>\n",
       "      <th>unit_price_mean</th>\n",
       "      <th>unit_price_sum</th>\n",
       "      <th>units_sold_mean</th>\n",
       "      <th>units_sold_sum</th>\n",
       "      <th>item_id_count</th>\n",
       "      <th>profit_mean</th>\n",
       "      <th>profit_sum</th>\n",
       "    </tr>\n",
       "    <tr>\n",
       "      <th>incr_cvr_cat</th>\n",
       "      <th></th>\n",
       "      <th></th>\n",
       "      <th></th>\n",
       "      <th></th>\n",
       "      <th></th>\n",
       "      <th></th>\n",
       "      <th></th>\n",
       "    </tr>\n",
       "  </thead>\n",
       "  <tbody>\n",
       "    <tr>\n",
       "      <th>-inf_0</th>\n",
       "      <td>62.989899</td>\n",
       "      <td>6236</td>\n",
       "      <td>1.488889</td>\n",
       "      <td>147.4</td>\n",
       "      <td>99</td>\n",
       "      <td>13.307071</td>\n",
       "      <td>1317.4</td>\n",
       "    </tr>\n",
       "    <tr>\n",
       "      <th>0-5</th>\n",
       "      <td>55.176471</td>\n",
       "      <td>938</td>\n",
       "      <td>1.488235</td>\n",
       "      <td>25.3</td>\n",
       "      <td>17</td>\n",
       "      <td>15.376471</td>\n",
       "      <td>261.4</td>\n",
       "    </tr>\n",
       "    <tr>\n",
       "      <th>5-10</th>\n",
       "      <td>50.555556</td>\n",
       "      <td>910</td>\n",
       "      <td>1.483333</td>\n",
       "      <td>26.7</td>\n",
       "      <td>18</td>\n",
       "      <td>10.988889</td>\n",
       "      <td>197.8</td>\n",
       "    </tr>\n",
       "    <tr>\n",
       "      <th>10-20</th>\n",
       "      <td>61.410256</td>\n",
       "      <td>2395</td>\n",
       "      <td>1.379487</td>\n",
       "      <td>53.8</td>\n",
       "      <td>39</td>\n",
       "      <td>13.423077</td>\n",
       "      <td>523.5</td>\n",
       "    </tr>\n",
       "    <tr>\n",
       "      <th>20-40</th>\n",
       "      <td>59.894737</td>\n",
       "      <td>3414</td>\n",
       "      <td>1.557895</td>\n",
       "      <td>88.8</td>\n",
       "      <td>57</td>\n",
       "      <td>12.896491</td>\n",
       "      <td>735.1</td>\n",
       "    </tr>\n",
       "    <tr>\n",
       "      <th>40-60</th>\n",
       "      <td>65.684211</td>\n",
       "      <td>1248</td>\n",
       "      <td>1.689474</td>\n",
       "      <td>32.1</td>\n",
       "      <td>19</td>\n",
       "      <td>13.089474</td>\n",
       "      <td>248.7</td>\n",
       "    </tr>\n",
       "    <tr>\n",
       "      <th>60-80</th>\n",
       "      <td>14.000000</td>\n",
       "      <td>14</td>\n",
       "      <td>1.000000</td>\n",
       "      <td>1.0</td>\n",
       "      <td>1</td>\n",
       "      <td>2.000000</td>\n",
       "      <td>2.0</td>\n",
       "    </tr>\n",
       "  </tbody>\n",
       "</table>\n",
       "</div>"
      ],
      "text/plain": [
       "              unit_price_mean  unit_price_sum  units_sold_mean  \\\n",
       "incr_cvr_cat                                                     \n",
       "-inf_0              62.989899            6236         1.488889   \n",
       "0-5                 55.176471             938         1.488235   \n",
       "5-10                50.555556             910         1.483333   \n",
       "10-20               61.410256            2395         1.379487   \n",
       "20-40               59.894737            3414         1.557895   \n",
       "40-60               65.684211            1248         1.689474   \n",
       "60-80               14.000000              14         1.000000   \n",
       "\n",
       "              units_sold_sum  item_id_count  profit_mean  profit_sum  \n",
       "incr_cvr_cat                                                          \n",
       "-inf_0                 147.4             99    13.307071      1317.4  \n",
       "0-5                     25.3             17    15.376471       261.4  \n",
       "5-10                    26.7             18    10.988889       197.8  \n",
       "10-20                   53.8             39    13.423077       523.5  \n",
       "20-40                   88.8             57    12.896491       735.1  \n",
       "40-60                   32.1             19    13.089474       248.7  \n",
       "60-80                    1.0              1     2.000000         2.0  "
      ]
     },
     "execution_count": 51,
     "metadata": {},
     "output_type": "execute_result"
    }
   ],
   "source": [
    "incr_cvr_price_group = sales_data.groupby('incr_cvr_cat').agg({'unit_price': [\"mean\",\"sum\"]\n",
    ",'units_sold': [\"mean\",\"sum\"], 'item_id': [\"count\"], 'profit': [\"mean\",\"sum\"]})\n",
    "incr_cvr_price_group.columns = [\"_\".join(x) for x in incr_cvr_price_group.columns.ravel()]\n",
    "incr_cvr_price_group.head(10)"
   ]
  },
  {
   "cell_type": "code",
   "execution_count": 50,
   "metadata": {},
   "outputs": [
    {
     "data": {
      "text/html": [
       "<div>\n",
       "<style scoped>\n",
       "    .dataframe tbody tr th:only-of-type {\n",
       "        vertical-align: middle;\n",
       "    }\n",
       "\n",
       "    .dataframe tbody tr th {\n",
       "        vertical-align: top;\n",
       "    }\n",
       "\n",
       "    .dataframe thead th {\n",
       "        text-align: right;\n",
       "    }\n",
       "</style>\n",
       "<table border=\"1\" class=\"dataframe\">\n",
       "  <thead>\n",
       "    <tr style=\"text-align: right;\">\n",
       "      <th></th>\n",
       "      <th>unit_price_mean</th>\n",
       "      <th>unit_price_sum</th>\n",
       "      <th>units_sold_mean</th>\n",
       "      <th>units_sold_sum</th>\n",
       "      <th>item_id_count</th>\n",
       "      <th>profit_mean</th>\n",
       "      <th>profit_sum</th>\n",
       "    </tr>\n",
       "    <tr>\n",
       "      <th>incr_sales_cat</th>\n",
       "      <th></th>\n",
       "      <th></th>\n",
       "      <th></th>\n",
       "      <th></th>\n",
       "      <th></th>\n",
       "      <th></th>\n",
       "      <th></th>\n",
       "    </tr>\n",
       "  </thead>\n",
       "  <tbody>\n",
       "    <tr>\n",
       "      <th>0_1</th>\n",
       "      <td>57.500000</td>\n",
       "      <td>1495</td>\n",
       "      <td>1.446154</td>\n",
       "      <td>37.6</td>\n",
       "      <td>26</td>\n",
       "      <td>12.634615</td>\n",
       "      <td>328.5</td>\n",
       "    </tr>\n",
       "    <tr>\n",
       "      <th>1_2</th>\n",
       "      <td>64.708333</td>\n",
       "      <td>1553</td>\n",
       "      <td>1.525000</td>\n",
       "      <td>36.6</td>\n",
       "      <td>24</td>\n",
       "      <td>15.012500</td>\n",
       "      <td>360.3</td>\n",
       "    </tr>\n",
       "    <tr>\n",
       "      <th>2_4</th>\n",
       "      <td>64.350000</td>\n",
       "      <td>2574</td>\n",
       "      <td>1.460000</td>\n",
       "      <td>58.4</td>\n",
       "      <td>40</td>\n",
       "      <td>14.330000</td>\n",
       "      <td>573.2</td>\n",
       "    </tr>\n",
       "    <tr>\n",
       "      <th>4_6</th>\n",
       "      <td>60.689655</td>\n",
       "      <td>3520</td>\n",
       "      <td>1.582759</td>\n",
       "      <td>91.8</td>\n",
       "      <td>58</td>\n",
       "      <td>13.186207</td>\n",
       "      <td>764.8</td>\n",
       "    </tr>\n",
       "    <tr>\n",
       "      <th>6_8</th>\n",
       "      <td>60.102041</td>\n",
       "      <td>2945</td>\n",
       "      <td>1.493878</td>\n",
       "      <td>73.2</td>\n",
       "      <td>49</td>\n",
       "      <td>12.683673</td>\n",
       "      <td>621.5</td>\n",
       "    </tr>\n",
       "    <tr>\n",
       "      <th>8_10</th>\n",
       "      <td>57.886792</td>\n",
       "      <td>3068</td>\n",
       "      <td>1.462264</td>\n",
       "      <td>77.5</td>\n",
       "      <td>53</td>\n",
       "      <td>12.030189</td>\n",
       "      <td>637.6</td>\n",
       "    </tr>\n",
       "  </tbody>\n",
       "</table>\n",
       "</div>"
      ],
      "text/plain": [
       "                unit_price_mean  unit_price_sum  units_sold_mean  \\\n",
       "incr_sales_cat                                                     \n",
       "0_1                   57.500000            1495         1.446154   \n",
       "1_2                   64.708333            1553         1.525000   \n",
       "2_4                   64.350000            2574         1.460000   \n",
       "4_6                   60.689655            3520         1.582759   \n",
       "6_8                   60.102041            2945         1.493878   \n",
       "8_10                  57.886792            3068         1.462264   \n",
       "\n",
       "                units_sold_sum  item_id_count  profit_mean  profit_sum  \n",
       "incr_sales_cat                                                          \n",
       "0_1                       37.6             26    12.634615       328.5  \n",
       "1_2                       36.6             24    15.012500       360.3  \n",
       "2_4                       58.4             40    14.330000       573.2  \n",
       "4_6                       91.8             58    13.186207       764.8  \n",
       "6_8                       73.2             49    12.683673       621.5  \n",
       "8_10                      77.5             53    12.030189       637.6  "
      ]
     },
     "execution_count": 50,
     "metadata": {},
     "output_type": "execute_result"
    }
   ],
   "source": [
    "incr_sales_price_group = sales_data.groupby('incr_sales_cat').agg({'unit_price': [\"mean\",\"sum\"]\n",
    ",'units_sold': [\"mean\",\"sum\"], 'item_id': [\"count\"], 'profit': [\"mean\",\"sum\"]})\n",
    "incr_sales_price_group.columns = [\"_\".join(x) for x in incr_sales_price_group.columns.ravel()]\n",
    "incr_sales_price_group.head(10)"
   ]
  },
  {
   "cell_type": "code",
   "execution_count": null,
   "metadata": {},
   "outputs": [],
   "source": []
  },
  {
   "cell_type": "code",
   "execution_count": 34,
   "metadata": {},
   "outputs": [
    {
     "data": {
      "text/html": [
       "<div>\n",
       "<style scoped>\n",
       "    .dataframe tbody tr th:only-of-type {\n",
       "        vertical-align: middle;\n",
       "    }\n",
       "\n",
       "    .dataframe tbody tr th {\n",
       "        vertical-align: top;\n",
       "    }\n",
       "\n",
       "    .dataframe thead th {\n",
       "        text-align: right;\n",
       "    }\n",
       "</style>\n",
       "<table border=\"1\" class=\"dataframe\">\n",
       "  <thead>\n",
       "    <tr style=\"text-align: right;\">\n",
       "      <th></th>\n",
       "      <th>unit_price</th>\n",
       "      <th>units_sold</th>\n",
       "      <th>incr_cvr</th>\n",
       "    </tr>\n",
       "  </thead>\n",
       "  <tbody>\n",
       "    <tr>\n",
       "      <th>245</th>\n",
       "      <td>10.759880</td>\n",
       "      <td>0.467087</td>\n",
       "      <td>0.661911</td>\n",
       "    </tr>\n",
       "    <tr>\n",
       "      <th>246</th>\n",
       "      <td>21.587929</td>\n",
       "      <td>-0.552318</td>\n",
       "      <td>0.000000</td>\n",
       "    </tr>\n",
       "    <tr>\n",
       "      <th>247</th>\n",
       "      <td>8.107933</td>\n",
       "      <td>0.554090</td>\n",
       "      <td>0.456290</td>\n",
       "    </tr>\n",
       "    <tr>\n",
       "      <th>248</th>\n",
       "      <td>27.775542</td>\n",
       "      <td>-0.206990</td>\n",
       "      <td>0.641507</td>\n",
       "    </tr>\n",
       "    <tr>\n",
       "      <th>249</th>\n",
       "      <td>15.678516</td>\n",
       "      <td>0.965816</td>\n",
       "      <td>0.814325</td>\n",
       "    </tr>\n",
       "  </tbody>\n",
       "</table>\n",
       "</div>"
      ],
      "text/plain": [
       "     unit_price  units_sold  incr_cvr\n",
       "245   10.759880    0.467087  0.661911\n",
       "246   21.587929   -0.552318  0.000000\n",
       "247    8.107933    0.554090  0.456290\n",
       "248   27.775542   -0.206990  0.641507\n",
       "249   15.678516    0.965816  0.814325"
      ]
     },
     "execution_count": 34,
     "metadata": {},
     "output_type": "execute_result"
    }
   ],
   "source": [
    "from scipy import stats\n",
    "sales_fix = pd.DataFrame()\n",
    "sales_fix[\"unit_price\"] = stats.boxcox(sales_data['unit_price'])[0]\n",
    "sales_fix[\"units_sold\"] = stats.boxcox(sales_data['units_sold'])[0]\n",
    "sales_fix[\"incr_cvr\"] = pd.Series(np.cbrt(sales_data['incr_cvr'])).values\n",
    "sales_fix.tail()"
   ]
  },
  {
   "cell_type": "code",
   "execution_count": 35,
   "metadata": {},
   "outputs": [
    {
     "name": "stdout",
     "output_type": "stream",
     "text": [
      "[-0.  0. -0.]\n",
      "[1. 1. 1.]\n"
     ]
    }
   ],
   "source": [
    "from sklearn.preprocessing import StandardScaler\n",
    "scaler = StandardScaler()\n",
    "scaler.fit(sales_fix)\n",
    "sales_normalized = scaler.transform(sales_fix)\n",
    "print(sales_normalized.mean(axis = 0).round(2)) # [0. -0. 0.]\n",
    "print(sales_normalized.std(axis = 0).round(2)) # [1. 1. 1.]"
   ]
  },
  {
   "cell_type": "code",
   "execution_count": 36,
   "metadata": {},
   "outputs": [
    {
     "name": "stderr",
     "output_type": "stream",
     "text": [
      "/opt/conda/lib/python3.7/site-packages/seaborn/distributions.py:2551: FutureWarning: `distplot` is a deprecated function and will be removed in a future version. Please adapt your code to use either `displot` (a figure-level function with similar flexibility) or `kdeplot` (an axes-level function for kernel density plots).\n",
      "  warnings.warn(msg, FutureWarning)\n",
      "/opt/conda/lib/python3.7/site-packages/seaborn/distributions.py:2055: FutureWarning: The `axis` variable is no longer used and will be removed. Instead, assign variables directly to `x` or `y`.\n",
      "  warnings.warn(msg, FutureWarning)\n"
     ]
    },
    {
     "data": {
      "text/plain": [
       "Text(0, 0.5, 'Density')"
      ]
     },
     "execution_count": 36,
     "metadata": {},
     "output_type": "execute_result"
    },
    {
     "data": {
      "image/png": "[encoded data removed]",
      "text/plain": [
       "<Figure size 432x288 with 1 Axes>"
      ]
     },
     "metadata": {},
     "output_type": "display_data"
    }
   ],
   "source": [
    "sns.distplot(sales_fix['unit_price'], hist = False, kde = True, rug = True,\n",
    "             color = 'darkblue', \n",
    "             kde_kws={'linewidth': 3},\n",
    "             rug_kws={'color': 'black'})\n",
    "\n",
    "# Plot formatting\n",
    "plt.title('Density Plot')\n",
    "plt.xlabel('Price')\n",
    "plt.ylabel('Density')"
   ]
  },
  {
   "cell_type": "code",
   "execution_count": null,
   "metadata": {},
   "outputs": [],
   "source": [
    "sns.displot(sales_fix, x=\"unit_price\", kind=\"kde\")"
   ]
  },
  {
   "cell_type": "code",
   "execution_count": null,
   "metadata": {},
   "outputs": [],
   "source": [
    "sns.displot(sales_data, x=\"units_sold\", y=\"incr_sales\", kind=\"kde\", thresh=.10, levels=3)"
   ]
  },
  {
   "cell_type": "code",
   "execution_count": 37,
   "metadata": {},
   "outputs": [
    {
     "data": {
      "text/plain": [
       "<AxesSubplot:xlabel='unit_price', ylabel='units_sold'>"
      ]
     },
     "execution_count": 37,
     "metadata": {},
     "output_type": "execute_result"
    },
    {
     "data": {
      "image/png": "[encoded data removed]",
      "text/plain": [
       "<Figure size 432x288 with 1 Axes>"
      ]
     },
     "metadata": {},
     "output_type": "display_data"
    }
   ],
   "source": [
    "ax = sns.violinplot(x=\"unit_price\", y=\"units_sold\", data=sales_data)\n",
    "ax"
   ]
  },
  {
   "cell_type": "code",
   "execution_count": null,
   "metadata": {},
   "outputs": [],
   "source": [
    "# demand curve\n",
    "sns.lmplot(x = \"units_sold\", y = \"incr_sales\", data = sales_data, height = 4)\n",
    "\n",
    "# fit OLS model\n",
    "model = ols(\"units_sold ~ incr_sales\", data = sales_data).fit()\n",
    "# print model summary\n",
    "print(model.summary())"
   ]
  },
  {
   "cell_type": "code",
   "execution_count": null,
   "metadata": {},
   "outputs": [],
   "source": [
    "import statsmodels.formula.api as smf\n",
    "import statsmodels.graphics.api as smg\n",
    "global b0, b1, ped_fit\n",
    "\n",
    "ped_fit = smf.ols(formula='incr_sales ~ units_sold',data=df).fit()\n",
    "ped_fit.summary()\n",
    "#Linear format of the model: y = b0 + b1*x\n",
    "b0 = ped_fit.params[\"Intercept\"]\n",
    "b1 = ped_fit.params[\"units_sold\"]\n",
    "smg.plot_fit(ped_fit,1)"
   ]
  },
  {
   "cell_type": "code",
   "execution_count": null,
   "metadata": {},
   "outputs": [],
   "source": []
  }
 ],
 "metadata": {
  "environment": {
   "name": "common-cpu.m59",
   "type": "gcloud",
   "uri": "gcr.io/deeplearning-platform-release/base-cpu:m59"
  },
  "kernelspec": {
   "display_name": "Python 3",
   "language": "python",
   "name": "python3"
  },
  "language_info": {
   "codemirror_mode": {
    "name": "ipython",
    "version": 3
   },
   "file_extension": ".py",
   "mimetype": "text/x-python",
   "name": "python",
   "nbconvert_exporter": "python",
   "pygments_lexer": "ipython3",
   "version": "3.7.8"
  }
 },
 "nbformat": 4,
 "nbformat_minor": 4
}
